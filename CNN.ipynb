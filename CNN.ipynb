{
 "cells": [
  {
   "cell_type": "code",
   "execution_count": 22,
   "metadata": {
    "id": "_NrD3malCJbE"
   },
   "outputs": [],
   "source": [
    "from keras.datasets import fashion_mnist"
   ]
  },
  {
   "cell_type": "code",
   "execution_count": 23,
   "metadata": {
    "id": "oMEPuBXdCU4P"
   },
   "outputs": [],
   "source": [
    "(train_X,train_Y), (test_X,test_Y) = fashion_mnist.load_data()"
   ]
  },
  {
   "cell_type": "code",
   "execution_count": 24,
   "metadata": {
    "colab": {
     "base_uri": "https://localhost:8080/"
    },
    "id": "JBk3wuhwCnHb",
    "outputId": "f53e6e66-25ed-4c13-cddc-583cf548ab12"
   },
   "outputs": [
    {
     "name": "stdout",
     "output_type": "stream",
     "text": [
      "Requirement already satisfied: keras.utils in /usr/local/lib/python3.7/dist-packages (1.0.13)\n",
      "Requirement already satisfied: Keras>=2.1.5 in /usr/local/lib/python3.7/dist-packages (from keras.utils) (2.7.0)\n"
     ]
    }
   ],
   "source": [
    "!pip install keras.utils"
   ]
  },
  {
   "cell_type": "code",
   "execution_count": 25,
   "metadata": {
    "id": "NHx_J5PmCd3y"
   },
   "outputs": [],
   "source": [
    "import numpy as np\n",
    "from tensorflow.keras.utils import to_categorical\n",
    "import matplotlib.pyplot as plt\n",
    "%matplotlib inline"
   ]
  },
  {
   "cell_type": "code",
   "execution_count": 26,
   "metadata": {
    "colab": {
     "base_uri": "https://localhost:8080/"
    },
    "id": "zHb6znbSC68A",
    "outputId": "30cd3eef-0171-4caa-d435-1e566b258b7d"
   },
   "outputs": [
    {
     "name": "stdout",
     "output_type": "stream",
     "text": [
      "Training data shape :  (60000, 28, 28) (60000,)\n",
      "Testing data shape :  (10000, 28, 28) (10000,)\n"
     ]
    }
   ],
   "source": [
    "print('Training data shape : ', train_X.shape, train_Y.shape)\n",
    "print('Testing data shape : ', test_X.shape, test_Y.shape)"
   ]
  },
  {
   "cell_type": "code",
   "execution_count": 27,
   "metadata": {
    "colab": {
     "base_uri": "https://localhost:8080/"
    },
    "id": "b30yhImPDCXQ",
    "outputId": "50ea521b-4e33-4468-91cd-c3fa689a8025"
   },
   "outputs": [
    {
     "name": "stdout",
     "output_type": "stream",
     "text": [
      "Total number of outputs :  10\n",
      "Output classes :  [0 1 2 3 4 5 6 7 8 9]\n"
     ]
    }
   ],
   "source": [
    "classes = np.unique(train_Y)\n",
    "nClasses = len(classes)\n",
    "print('Total number of outputs : ', nClasses)\n",
    "print('Output classes : ', classes)"
   ]
  },
  {
   "cell_type": "code",
   "execution_count": 28,
   "metadata": {
    "colab": {
     "base_uri": "https://localhost:8080/",
     "height": 353
    },
    "id": "ZiAP6ufNDO85",
    "outputId": "c8aaa21c-c84b-4e77-e936-f95bb559c02d"
   },
   "outputs": [
    {
     "data": {
      "text/plain": [
       "Text(0.5, 1.0, 'Ground Truth : 9')"
      ]
     },
     "execution_count": 28,
     "metadata": {},
     "output_type": "execute_result"
    },
    {
     "data": {
      "image/png": "[encoded data removed]",
      "text/plain": [
       "<Figure size 360x360 with 1 Axes>"
      ]
     },
     "metadata": {
      "needs_background": "light"
     },
     "output_type": "display_data"
    }
   ],
   "source": [
    "plt.figure(figsize=[5,5])\n",
    "# Display the first image in training data\n",
    "#plt.subplot(121)\n",
    "plt.imshow(train_X[0,:,:], cmap='gray')\n",
    "plt.title(\"Ground Truth : {}\".format(train_Y[0]))"
   ]
  },
  {
   "cell_type": "code",
   "execution_count": 29,
   "metadata": {
    "colab": {
     "base_uri": "https://localhost:8080/",
     "height": 353
    },
    "id": "S9w1uSbLDTF_",
    "outputId": "8b43beda-e92f-4a40-8492-37a14cb67d85"
   },
   "outputs": [
    {
     "data": {
      "text/plain": [
       "Text(0.5, 1.0, 'Ground Truth : 9')"
      ]
     },
     "execution_count": 29,
     "metadata": {},
     "output_type": "execute_result"
    },
    {
     "data": {
      "image/png": "[encoded data removed]",
      "text/plain": [
       "<Figure size 360x360 with 1 Axes>"
      ]
     },
     "metadata": {
      "needs_background": "light"
     },
     "output_type": "display_data"
    }
   ],
   "source": [
    "# Display the first image in testing data\n",
    "plt.figure(figsize=[5,5])\n",
    "#plt.subplot(121)\n",
    "plt.imshow(test_X[0,:,:], cmap='gray')\n",
    "plt.title(\"Ground Truth : {}\".format(test_Y[0]))"
   ]
  },
  {
   "cell_type": "code",
   "execution_count": 30,
   "metadata": {
    "colab": {
     "base_uri": "https://localhost:8080/"
    },
    "id": "WBJxWdLnEFnb",
    "outputId": "1ddf21de-deb6-4e91-cbff-0d9abc4b5519"
   },
   "outputs": [
    {
     "data": {
      "text/plain": [
       "((60000, 28, 28, 1), (10000, 28, 28, 1))"
      ]
     },
     "execution_count": 30,
     "metadata": {},
     "output_type": "execute_result"
    }
   ],
   "source": [
    "train_X = train_X.reshape(-1, 28,28, 1)\n",
    "test_X = test_X.reshape(-1, 28,28, 1)\n",
    "train_X.shape, test_X.shape"
   ]
  },
  {
   "cell_type": "markdown",
   "metadata": {
    "id": "DkBRAIEZFOG3"
   },
   "source": [
    "−1 indicates that the length on the current axis needs to be automatically deduced according to the rule that the total elements of the tensor remain unchanged"
   ]
  },
  {
   "cell_type": "code",
   "execution_count": 31,
   "metadata": {
    "id": "4WsqwJH_FP3E"
   },
   "outputs": [],
   "source": [
    "train_X = train_X.astype('float32')\n",
    "test_X = test_X.astype('float32')\n",
    "train_X = train_X / 255.\n",
    "test_X = test_X / 255."
   ]
  },
  {
   "cell_type": "code",
   "execution_count": 32,
   "metadata": {
    "id": "t13sCtxPFc7s"
   },
   "outputs": [],
   "source": [
    "train_Y_one_hot = to_categorical(train_Y)\n",
    "test_Y_one_hot = to_categorical(test_Y)"
   ]
  },
  {
   "cell_type": "code",
   "execution_count": 33,
   "metadata": {
    "colab": {
     "base_uri": "https://localhost:8080/"
    },
    "id": "xV3ue-yEFgZ9",
    "outputId": "9fdf051d-3bbe-478e-e56a-43152aeb33a0"
   },
   "outputs": [
    {
     "name": "stdout",
     "output_type": "stream",
     "text": [
      "Original label: 9\n",
      "After conversion to one-hot: [0. 0. 0. 0. 0. 0. 0. 0. 0. 1.]\n"
     ]
    }
   ],
   "source": [
    "print('Original label:', train_Y[0])\n",
    "print('After conversion to one-hot:', train_Y_one_hot[0])"
   ]
  },
  {
   "cell_type": "code",
   "execution_count": 34,
   "metadata": {
    "id": "Ulfp16_PFnKE"
   },
   "outputs": [],
   "source": [
    "from sklearn.model_selection import train_test_split\n",
    "train_X,valid_X,train_label,valid_label = train_test_split(train_X, train_Y_one_hot, test_size=0.2, random_state=13)"
   ]
  },
  {
   "cell_type": "code",
   "execution_count": 35,
   "metadata": {
    "colab": {
     "base_uri": "https://localhost:8080/"
    },
    "id": "WxbXBClZFqFR",
    "outputId": "7df53041-9a25-4cab-98ad-78ab5b7dbcb2"
   },
   "outputs": [
    {
     "data": {
      "text/plain": [
       "((48000, 28, 28, 1), (12000, 28, 28, 1), (48000, 10), (12000, 10))"
      ]
     },
     "execution_count": 35,
     "metadata": {},
     "output_type": "execute_result"
    }
   ],
   "source": [
    "train_X.shape,valid_X.shape,train_label.shape,valid_label.shape"
   ]
  },
  {
   "cell_type": "code",
   "execution_count": 36,
   "metadata": {
    "id": "3qezZC_MFzpH"
   },
   "outputs": [],
   "source": [
    "import keras\n",
    "from keras.models import Sequential,Input,Model\n",
    "from keras.layers import Dense, Dropout, Flatten\n",
    "from keras.layers import Conv2D, MaxPooling2D\n",
    "#from keras.layers.normalization import BatchNormalization\n",
    "from keras.layers.advanced_activations import LeakyReLU\n",
    "\n",
    "from tensorflow.keras.models import Sequential\n",
    "from tensorflow.keras.layers import (\n",
    "    BatchNormalization, SeparableConv2D, MaxPooling2D, Activation, Flatten, Dropout, Dense)\n",
    "from tensorflow.keras import backend as K"
   ]
  },
  {
   "cell_type": "code",
   "execution_count": 37,
   "metadata": {
    "id": "kACsWZ2FGHrJ"
   },
   "outputs": [],
   "source": [
    "batch_size = 64\n",
    "epochs = 5\n",
    "num_classes = 10"
   ]
  },
  {
   "cell_type": "code",
   "execution_count": 38,
   "metadata": {
    "id": "g_Ab_DwUGOeg"
   },
   "outputs": [],
   "source": [
    "fashion_model = Sequential()\n",
    "fashion_model.add(Conv2D(32, kernel_size=(3, 3),activation='linear',input_shape=(28,28,1),padding='same'))\n",
    "fashion_model.add(LeakyReLU(alpha=0.1))\n",
    "fashion_model.add(MaxPooling2D((2, 2),padding='same'))\n",
    "fashion_model.add(Conv2D(64, (3, 3), activation='linear',padding='same'))\n",
    "fashion_model.add(LeakyReLU(alpha=0.1))\n",
    "fashion_model.add(MaxPooling2D(pool_size=(2, 2),padding='same'))\n",
    "fashion_model.add(Conv2D(128, (3, 3), activation='linear',padding='same'))\n",
    "fashion_model.add(LeakyReLU(alpha=0.1))                  \n",
    "fashion_model.add(MaxPooling2D(pool_size=(2, 2),padding='same'))\n",
    "fashion_model.add(Flatten())\n",
    "fashion_model.add(Dense(128, activation='linear'))\n",
    "fashion_model.add(LeakyReLU(alpha=0.1))                  \n",
    "fashion_model.add(Dense(num_classes, activation='softmax'))"
   ]
  },
  {
   "cell_type": "code",
   "execution_count": 39,
   "metadata": {
    "id": "A8iBqYzKGhTe"
   },
   "outputs": [],
   "source": [
    "from tensorflow import keras"
   ]
  },
  {
   "cell_type": "code",
   "execution_count": 40,
   "metadata": {
    "id": "hBBEyVh5GWV6"
   },
   "outputs": [],
   "source": [
    "fashion_model.compile(loss=keras.losses.categorical_crossentropy, optimizer=keras.optimizers.Adam(),metrics=['accuracy'])"
   ]
  },
  {
   "cell_type": "code",
   "execution_count": 41,
   "metadata": {
    "colab": {
     "base_uri": "https://localhost:8080/"
    },
    "id": "q5u5zFdLGk7e",
    "outputId": "88d5c387-4f55-4d17-cf07-bde8a5d7406f"
   },
   "outputs": [
    {
     "name": "stdout",
     "output_type": "stream",
     "text": [
      "Model: \"sequential_1\"\n",
      "_________________________________________________________________\n",
      " Layer (type)                Output Shape              Param #   \n",
      "=================================================================\n",
      " conv2d_3 (Conv2D)           (None, 28, 28, 32)        320       \n",
      "                                                                 \n",
      " leaky_re_lu_4 (LeakyReLU)   (None, 28, 28, 32)        0         \n",
      "                                                                 \n",
      " max_pooling2d_3 (MaxPooling  (None, 14, 14, 32)       0         \n",
      " 2D)                                                             \n",
      "                                                                 \n",
      " conv2d_4 (Conv2D)           (None, 14, 14, 64)        18496     \n",
      "                                                                 \n",
      " leaky_re_lu_5 (LeakyReLU)   (None, 14, 14, 64)        0         \n",
      "                                                                 \n",
      " max_pooling2d_4 (MaxPooling  (None, 7, 7, 64)         0         \n",
      " 2D)                                                             \n",
      "                                                                 \n",
      " conv2d_5 (Conv2D)           (None, 7, 7, 128)         73856     \n",
      "                                                                 \n",
      " leaky_re_lu_6 (LeakyReLU)   (None, 7, 7, 128)         0         \n",
      "                                                                 \n",
      " max_pooling2d_5 (MaxPooling  (None, 4, 4, 128)        0         \n",
      " 2D)                                                             \n",
      "                                                                 \n",
      " flatten_1 (Flatten)         (None, 2048)              0         \n",
      "                                                                 \n",
      " dense_2 (Dense)             (None, 128)               262272    \n",
      "                                                                 \n",
      " leaky_re_lu_7 (LeakyReLU)   (None, 128)               0         \n",
      "                                                                 \n",
      " dense_3 (Dense)             (None, 10)                1290      \n",
      "                                                                 \n",
      "=================================================================\n",
      "Total params: 356,234\n",
      "Trainable params: 356,234\n",
      "Non-trainable params: 0\n",
      "_________________________________________________________________\n"
     ]
    }
   ],
   "source": [
    "fashion_model.summary()"
   ]
  },
  {
   "cell_type": "code",
   "execution_count": 42,
   "metadata": {
    "colab": {
     "base_uri": "https://localhost:8080/"
    },
    "id": "4dsWULDSGpLL",
    "outputId": "6a8d37c1-7756-40bc-8ffe-c42f6a5f5dba"
   },
   "outputs": [
    {
     "name": "stdout",
     "output_type": "stream",
     "text": [
      "Epoch 1/20\n",
      "750/750 [==============================] - 12s 15ms/step - loss: 0.4683 - accuracy: 0.8298 - val_loss: 0.3266 - val_accuracy: 0.8848\n",
      "Epoch 2/20\n",
      "750/750 [==============================] - 10s 14ms/step - loss: 0.2887 - accuracy: 0.8939 - val_loss: 0.3003 - val_accuracy: 0.8918\n",
      "Epoch 3/20\n",
      "750/750 [==============================] - 10s 14ms/step - loss: 0.2407 - accuracy: 0.9116 - val_loss: 0.2688 - val_accuracy: 0.9001\n",
      "Epoch 4/20\n",
      "750/750 [==============================] - 10s 14ms/step - loss: 0.2092 - accuracy: 0.9213 - val_loss: 0.2272 - val_accuracy: 0.9168\n",
      "Epoch 5/20\n",
      "750/750 [==============================] - 11s 14ms/step - loss: 0.1848 - accuracy: 0.9311 - val_loss: 0.2279 - val_accuracy: 0.9187\n",
      "Epoch 6/20\n",
      "750/750 [==============================] - 10s 14ms/step - loss: 0.1601 - accuracy: 0.9396 - val_loss: 0.2215 - val_accuracy: 0.9208\n",
      "Epoch 7/20\n",
      "750/750 [==============================] - 10s 13ms/step - loss: 0.1388 - accuracy: 0.9479 - val_loss: 0.2479 - val_accuracy: 0.9192\n",
      "Epoch 8/20\n",
      "750/750 [==============================] - 10s 14ms/step - loss: 0.1196 - accuracy: 0.9555 - val_loss: 0.2379 - val_accuracy: 0.9223\n",
      "Epoch 9/20\n",
      "750/750 [==============================] - 10s 14ms/step - loss: 0.1020 - accuracy: 0.9618 - val_loss: 0.2549 - val_accuracy: 0.9236\n",
      "Epoch 10/20\n",
      "750/750 [==============================] - 10s 13ms/step - loss: 0.0885 - accuracy: 0.9662 - val_loss: 0.3012 - val_accuracy: 0.9182\n",
      "Epoch 11/20\n",
      "750/750 [==============================] - 10s 14ms/step - loss: 0.0727 - accuracy: 0.9724 - val_loss: 0.3088 - val_accuracy: 0.9153\n",
      "Epoch 12/20\n",
      "750/750 [==============================] - 10s 14ms/step - loss: 0.0619 - accuracy: 0.9766 - val_loss: 0.3043 - val_accuracy: 0.9217\n",
      "Epoch 13/20\n",
      "750/750 [==============================] - 10s 14ms/step - loss: 0.0543 - accuracy: 0.9798 - val_loss: 0.3298 - val_accuracy: 0.9183\n",
      "Epoch 14/20\n",
      "750/750 [==============================] - 10s 13ms/step - loss: 0.0478 - accuracy: 0.9828 - val_loss: 0.3742 - val_accuracy: 0.9197\n",
      "Epoch 15/20\n",
      "750/750 [==============================] - 10s 14ms/step - loss: 0.0448 - accuracy: 0.9835 - val_loss: 0.3790 - val_accuracy: 0.9157\n",
      "Epoch 16/20\n",
      "750/750 [==============================] - 10s 13ms/step - loss: 0.0408 - accuracy: 0.9843 - val_loss: 0.4131 - val_accuracy: 0.9176\n",
      "Epoch 17/20\n",
      "750/750 [==============================] - 10s 14ms/step - loss: 0.0368 - accuracy: 0.9863 - val_loss: 0.4116 - val_accuracy: 0.9164\n",
      "Epoch 18/20\n",
      "750/750 [==============================] - 10s 14ms/step - loss: 0.0344 - accuracy: 0.9874 - val_loss: 0.4161 - val_accuracy: 0.9200\n",
      "Epoch 19/20\n",
      "750/750 [==============================] - 10s 14ms/step - loss: 0.0322 - accuracy: 0.9884 - val_loss: 0.4365 - val_accuracy: 0.9185\n",
      "Epoch 20/20\n",
      "750/750 [==============================] - 10s 14ms/step - loss: 0.0288 - accuracy: 0.9895 - val_loss: 0.4270 - val_accuracy: 0.9191\n"
     ]
    }
   ],
   "source": [
    "fashion_train = fashion_model.fit(train_X, train_label, batch_size=batch_size,epochs=epochs,verbose=1,validation_data=(valid_X, valid_label))"
   ]
  },
  {
   "cell_type": "code",
   "execution_count": 43,
   "metadata": {
    "id": "97Q9ho2nYkEL"
   },
   "outputs": [],
   "source": [
    "test_eval = fashion_model.evaluate(test_X, test_Y_one_hot, verbose=0)"
   ]
  },
  {
   "cell_type": "code",
   "execution_count": 44,
   "metadata": {
    "colab": {
     "base_uri": "https://localhost:8080/"
    },
    "id": "tLpL1kAJXtL4",
    "outputId": "9a3db132-43d0-487c-de44-c749cb826792"
   },
   "outputs": [
    {
     "name": "stdout",
     "output_type": "stream",
     "text": [
      "Test loss: 0.4513728618621826\n",
      "Test accuracy: 0.9144999980926514\n"
     ]
    }
   ],
   "source": [
    "print('Test loss:', test_eval[0])\n",
    "print('Test accuracy:', test_eval[1])"
   ]
  }
 ],
 "metadata": {
  "accelerator": "GPU",
  "colab": {
   "name": "CNN.ipynb",
   "provenance": []
  },
  "kernelspec": {
   "display_name": "Python 3",
   "language": "python",
   "name": "python3"
  },
  "language_info": {
   "codemirror_mode": {
    "name": "ipython",
    "version": 3
   },
   "file_extension": ".py",
   "mimetype": "text/x-python",
   "name": "python",
   "nbconvert_exporter": "python",
   "pygments_lexer": "ipython3",
   "version": "3.8.8"
  }
 },
 "nbformat": 4,
 "nbformat_minor": 1
}
